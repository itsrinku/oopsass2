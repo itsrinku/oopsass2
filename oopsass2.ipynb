{
 "cells": [
  {
   "cell_type": "code",
   "execution_count": 1,
   "id": "08d9c1c9-a173-4f3d-ae47-5d4357dea125",
   "metadata": {},
   "outputs": [],
   "source": [
    "#ans1\n"
   ]
  },
  {
   "cell_type": "code",
   "execution_count": 2,
   "id": "a63d8688-a01b-4cda-b560-5a73f918ba55",
   "metadata": {},
   "outputs": [],
   "source": [
    "#Abstraction in python is defined as a process of handling complexity by hiding unnecessary information from the user. This is one of the core concepts of object-oriented programming (OOP) languages."
   ]
  },
  {
   "cell_type": "code",
   "execution_count": 16,
   "id": "730e02a7-0e60-4373-b8de-69d2ac89a7f5",
   "metadata": {},
   "outputs": [],
   "source": [
    "import abc\n",
    "class Shape:\n",
    "\n",
    "    def __init__ (self, shapeType):\n",
    "\n",
    "        self.shapeType = shapeType\n",
    "\n",
    "    @abc.abstractmethod\n",
    "\n",
    "    def area(self) :\n",
    "\n",
    "        pass\n",
    "\n",
    "    @abc.abstractmethod\n",
    "\n",
    "    def perimeter (self):\n",
    "\n",
    "        pass\n",
    "\n",
    "class Rectangle(Shape):\n",
    "\n",
    "    def __init__(self, length, breadth):\n",
    "\n",
    "        self.length = length \n",
    "\n",
    "        self.breadth = breadth\n",
    "\n",
    "    def area (self):\n",
    "\n",
    "        return self.length * self.breadth\n",
    "\n",
    "    def perimeter (self):\n",
    "\n",
    "        return 2 * (self.length + self.breadth)\n",
    "\n",
    "class Circle (Shape):\n",
    "\n",
    "    pi = 3.14\n",
    "\n",
    "    def __init__ (self, radius):\n",
    "\n",
    "        self.radius = radius\n",
    "\n",
    "    def area (self):\n",
    "\n",
    "        return round(Circle.pi * (self.radius ** 2), 2)\n",
    "\n",
    "    def perimeter(self):\n",
    "\n",
    "        return round (2 * Circle.pi * self.radius, 2)\n"
   ]
  },
  {
   "cell_type": "code",
   "execution_count": 17,
   "id": "82e30124-4980-4478-8016-38e512407815",
   "metadata": {},
   "outputs": [],
   "source": [
    "rec=Rectangle(20,30)"
   ]
  },
  {
   "cell_type": "code",
   "execution_count": 18,
   "id": "c0bd2c16-b877-4e30-b33c-74818968dafa",
   "metadata": {},
   "outputs": [
    {
     "data": {
      "text/plain": [
       "600"
      ]
     },
     "execution_count": 18,
     "metadata": {},
     "output_type": "execute_result"
    }
   ],
   "source": [
    "rec.area()"
   ]
  },
  {
   "cell_type": "code",
   "execution_count": 19,
   "id": "02953317-0b76-4820-9a59-8cc0abb11479",
   "metadata": {},
   "outputs": [
    {
     "data": {
      "text/plain": [
       "100"
      ]
     },
     "execution_count": 19,
     "metadata": {},
     "output_type": "execute_result"
    }
   ],
   "source": [
    "rec.perimeter()"
   ]
  },
  {
   "cell_type": "code",
   "execution_count": 20,
   "id": "5b5444a2-7534-44b5-a9a9-7603379c7c5f",
   "metadata": {},
   "outputs": [],
   "source": [
    "cir=Circle(4)"
   ]
  },
  {
   "cell_type": "code",
   "execution_count": 21,
   "id": "fa8d585c-b462-4408-a877-011637749cdb",
   "metadata": {},
   "outputs": [
    {
     "data": {
      "text/plain": [
       "50.24"
      ]
     },
     "execution_count": 21,
     "metadata": {},
     "output_type": "execute_result"
    }
   ],
   "source": [
    "cir.area()"
   ]
  },
  {
   "cell_type": "code",
   "execution_count": 22,
   "id": "a447eb9d-1845-414a-a38d-5c5172d46181",
   "metadata": {},
   "outputs": [
    {
     "data": {
      "text/plain": [
       "25.12"
      ]
     },
     "execution_count": 22,
     "metadata": {},
     "output_type": "execute_result"
    }
   ],
   "source": [
    "cir.perimeter()"
   ]
  },
  {
   "cell_type": "code",
   "execution_count": null,
   "id": "68268f3b-1f8d-4acf-86d3-d9d92eadc5ff",
   "metadata": {},
   "outputs": [],
   "source": []
  },
  {
   "cell_type": "code",
   "execution_count": null,
   "id": "ccae250d-6c49-4fd8-8ce1-9b7d5ce51c14",
   "metadata": {},
   "outputs": [],
   "source": []
  },
  {
   "cell_type": "code",
   "execution_count": null,
   "id": "a3638d03-a0fe-4881-95b5-3eadfe4ca12d",
   "metadata": {},
   "outputs": [],
   "source": []
  },
  {
   "cell_type": "code",
   "execution_count": 24,
   "id": "0aa4cdad-2f9f-46b1-a46c-ff1061bb7aff",
   "metadata": {},
   "outputs": [],
   "source": [
    "#ans2\n"
   ]
  },
  {
   "cell_type": "code",
   "execution_count": 25,
   "id": "03e5a386-9762-46e6-966b-040a0165cad9",
   "metadata": {},
   "outputs": [],
   "source": [
    "#Abstraction is a process of hiding the implementation details of a system from the user, and only the functional details will be available to the user end. On the other hand, Encapsulation is a method of wrapping up the data and code acting on the data into a single unit.\n"
   ]
  },
  {
   "cell_type": "code",
   "execution_count": null,
   "id": "d4ab5afe-82c4-4486-83b7-ca873f411380",
   "metadata": {},
   "outputs": [],
   "source": [
    "\n"
   ]
  },
  {
   "cell_type": "code",
   "execution_count": null,
   "id": "f2e74e8f-6eee-4fdd-b2da-d86e657d8b02",
   "metadata": {},
   "outputs": [],
   "source": []
  },
  {
   "cell_type": "code",
   "execution_count": 26,
   "id": "13054ac0-dab3-47fd-842c-7d813ca4aef4",
   "metadata": {},
   "outputs": [],
   "source": [
    "#ans3\n"
   ]
  },
  {
   "cell_type": "code",
   "execution_count": 27,
   "id": "25962352-2fa7-4e4c-8589-1b10399c7b61",
   "metadata": {},
   "outputs": [],
   "source": [
    "#The 'abc' module in Python library provides the infrastructure for defining custom abstract base classes. 'abc' works by marking methods of the base class as abstract. This is done by @absttractmethod decorator"
   ]
  },
  {
   "cell_type": "code",
   "execution_count": null,
   "id": "a5f7cb9d-9d1e-4555-b63d-0cea56c2bf6e",
   "metadata": {},
   "outputs": [],
   "source": []
  },
  {
   "cell_type": "code",
   "execution_count": 28,
   "id": "51895b29-1ace-4d54-818a-df018d048c07",
   "metadata": {},
   "outputs": [],
   "source": [
    "#ans4\n"
   ]
  },
  {
   "cell_type": "code",
   "execution_count": 30,
   "id": "2d33e750-b7a5-45e4-ba36-8f64e8a1bb7e",
   "metadata": {},
   "outputs": [],
   "source": [
    "#Data Abstraction in Python can be achieved through creating abstract classes and inheriting .\n",
    "\n"
   ]
  },
  {
   "cell_type": "code",
   "execution_count": null,
   "id": "811c15b2-6b6d-47ff-8110-f739ef83bcd2",
   "metadata": {},
   "outputs": [],
   "source": []
  },
  {
   "cell_type": "code",
   "execution_count": 31,
   "id": "3500d700-b260-4b96-bcfb-a28b0104606a",
   "metadata": {},
   "outputs": [],
   "source": [
    "#ans 5\n"
   ]
  },
  {
   "cell_type": "code",
   "execution_count": null,
   "id": "d9a43558-911b-4dc4-83bd-7d94fda27dab",
   "metadata": {},
   "outputs": [],
   "source": [
    "# no, we cannot create an instance of an abstract class\n"
   ]
  }
 ],
 "metadata": {
  "kernelspec": {
   "display_name": "Python 3 (ipykernel)",
   "language": "python",
   "name": "python3"
  },
  "language_info": {
   "codemirror_mode": {
    "name": "ipython",
    "version": 3
   },
   "file_extension": ".py",
   "mimetype": "text/x-python",
   "name": "python",
   "nbconvert_exporter": "python",
   "pygments_lexer": "ipython3",
   "version": "3.10.6"
  }
 },
 "nbformat": 4,
 "nbformat_minor": 5
}
